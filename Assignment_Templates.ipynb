{
  "cells": [
    {
      "cell_type": "markdown",
      "metadata": {
        "id": "O6_FFsQVKK5V"
      },
      "source": [
        "# Live Code Phase 0\n",
        "\n",
        "Nama: Luvi Puspitasari\n",
        "\n",
        "Batch: 11"
      ]
    },
    {
      "cell_type": "markdown",
      "metadata": {
        "id": "KF_9GsjGKTPp"
      },
      "source": [
        "# Problems"
      ]
    },
    {
      "cell_type": "markdown",
      "metadata": {
        "id": "TSTfQxuiKXw7"
      },
      "source": [
        "## Nomor 1\n",
        "\n",
        "*Mohon ceritakan secara singkat masalah apa yang ingin diselesaikan di bawah ini!*"
      ]
    },
    {
      "cell_type": "markdown",
      "metadata": {},
      "source": [
        "### Mengubah pesan \"Prepare to Negotiate\""
      ]
    },
    {
      "cell_type": "markdown",
      "metadata": {},
      "source": [
        "### Permasalah\n",
        "Mengubah isi pesan yang berisikan \"Prepare to negotiate\" menjadi kode/pesan transmisi yang berupa kumpulan angka yang disebut endcode"
      ]
    },
    {
      "cell_type": "code",
      "execution_count": 60,
      "metadata": {},
      "outputs": [],
      "source": [
        "import numpy as np"
      ]
    },
    {
      "cell_type": "code",
      "execution_count": 61,
      "metadata": {},
      "outputs": [
        {
          "data": {
            "text/plain": [
              "array([ 1,  2,  3,  4,  5,  6,  7,  8,  9, 10, 11, 12, 13, 14, 15, 16, 17,\n",
              "       18, 19, 20, 21, 22, 23, 24, 25, 26,  0])"
            ]
          },
          "execution_count": 61,
          "metadata": {},
          "output_type": "execute_result"
        }
      ],
      "source": [
        "# Menkonfersi huruf dalam sebuah angka dan disimpan danam nupy arra#y\n",
        "\n",
        "A = 1\n",
        "B = 2\n",
        "C = 3\n",
        "D = 4\n",
        "E = 5\n",
        "F = 6\n",
        "G = 7\n",
        "H = 8\n",
        "I = 9\n",
        "J = 10\n",
        "K = 11\n",
        "L = 12\n",
        "M = 13\n",
        "N = 14\n",
        "O = 15\n",
        "P = 16\n",
        "Q = 17\n",
        "R = 18\n",
        "S = 19\n",
        "T = 20\n",
        "U = 21\n",
        "V = 22\n",
        "W = 23\n",
        "X = 24\n",
        "Y = 25\n",
        "Z = 26\n",
        "sp = 0\n",
        "\n",
        "arr = np. array([ A, B, C, D, E, F, G, H, I, J, K, L,M, N, O, P, Q, R, S, T, U, V, W, X, Y, Z, sp])\n",
        "\n",
        "arr\n",
        "\n"
      ]
    },
    {
      "cell_type": "code",
      "execution_count": 29,
      "metadata": {},
      "outputs": [
        {
          "name": "stdout",
          "output_type": "stream",
          "text": [
            "[19  9  1 16  0  2  5 18 19  5  4  9  1]\n"
          ]
        }
      ],
      "source": [
        "# Mengkonfersi Kalimat\n",
        "\n",
        "Siap_bersedia = np.array([S, I, A, P, sp, B, E, R, S, E, D, I, A])\n",
        "print(Siap_bersedia)"
      ]
    },
    {
      "cell_type": "code",
      "execution_count": 62,
      "metadata": {},
      "outputs": [
        {
          "data": {
            "text/plain": [
              "(3, 4)"
            ]
          },
          "execution_count": 62,
          "metadata": {},
          "output_type": "execute_result"
        }
      ],
      "source": [
        "# Soal C, Numpy Array dari 1D-Array (vektor) diubah menjadi 2D-Array (matriks)\n",
        "\n",
        "# Metode Reshape(NumPy)\n",
        "Siap_bersedia.shape"
      ]
    },
    {
      "cell_type": "code",
      "execution_count": 64,
      "metadata": {},
      "outputs": [
        {
          "data": {
            "text/plain": [
              "array([[19.,  9.,  1., 16.],\n",
              "       [ 2.,  5., 18., 19.],\n",
              "       [ 5.,  4.,  9.,  1.]])"
            ]
          },
          "execution_count": 64,
          "metadata": {},
          "output_type": "execute_result"
        }
      ],
      "source": [
        "hasil = Siap_bersedia @ np.eye(4)\n",
        "hasil"
      ]
    },
    {
      "cell_type": "code",
      "execution_count": 45,
      "metadata": {},
      "outputs": [
        {
          "data": {
            "text/plain": [
              "array([[19,  9,  1, 16],\n",
              "       [ 2,  5, 18, 19],\n",
              "       [ 5,  4,  9,  1]])"
            ]
          },
          "execution_count": 45,
          "metadata": {},
          "output_type": "execute_result"
        }
      ],
      "source": [
        "Siap_bersedia = np.array([[19, 9, 1, 16],\n",
        "                        [2, 5, 18, 19],\n",
        "                        [5, 4, 9, 1]])\n",
        "Siap_bersedia"
      ]
    },
    {
      "cell_type": "code",
      "execution_count": 65,
      "metadata": {},
      "outputs": [
        {
          "data": {
            "text/plain": [
              "array([[2, 1, 0, 4],\n",
              "       [3, 4, 2, 1],\n",
              "       [1, 2, 9, 0],\n",
              "       [0, 7, 8, 3]])"
            ]
          },
          "execution_count": 65,
          "metadata": {},
          "output_type": "execute_result"
        }
      ],
      "source": [
        "# Soal D, membuat matriks encoder 4x4\n",
        "\n",
        "E = np. array([[B, A, sp, D],\n",
        "            [C, D, B, A],\n",
        "            [A, B, I, sp],\n",
        "            [sp, G, H, C]])\n",
        "\n",
        "E"
      ]
    },
    {
      "cell_type": "code",
      "execution_count": 40,
      "metadata": {},
      "outputs": [],
      "source": [
        "# Soal E, Mengalikan matriks encoder yang telah ditentukan dengan matriks pesan\n",
        "Siap_bersedia = np.array([[19, 9, 1, 16],\n",
        "                        [2, 5, 18, 19],\n",
        "                        [5, 4, 9, 1]])\n",
        "E = np. array([[2, 1, 0, 4],\n",
        "            [3, 4, 2, 1],\n",
        "            [1, 2, 9,0],\n",
        "            [0, 7, 8, 3]])"
      ]
    },
    {
      "cell_type": "code",
      "execution_count": 47,
      "metadata": {},
      "outputs": [
        {
          "data": {
            "text/plain": [
              "array([[ 66, 169, 155, 133],\n",
              "       [ 37, 191, 324,  70],\n",
              "       [ 31,  46,  97,  27]])"
            ]
          },
          "execution_count": 47,
          "metadata": {},
          "output_type": "execute_result"
        }
      ],
      "source": [
        "Pesan_Encode = Siap_bersedia @ E\n",
        "\n",
        "Pesan_Encode"
      ]
    },
    {
      "cell_type": "code",
      "execution_count": 56,
      "metadata": {},
      "outputs": [
        {
          "ename": "TypeError",
          "evalue": "_allclose_dispatcher() missing 1 required positional argument: 'b'",
          "output_type": "error",
          "traceback": [
            "\u001b[0;31m---------------------------------------------------------------------------\u001b[0m",
            "\u001b[0;31mTypeError\u001b[0m                                 Traceback (most recent call last)",
            "\u001b[0;32m/var/folders/28/x9_2l77x6ml_cxqy5hg87s_c0000gn/T/ipykernel_1488/3685346748.py\u001b[0m in \u001b[0;36m<module>\u001b[0;34m\u001b[0m\n\u001b[0;32m----> 1\u001b[0;31m \u001b[0mDecode\u001b[0m \u001b[0;34m=\u001b[0m \u001b[0mnp\u001b[0m\u001b[0;34m.\u001b[0m\u001b[0mallclose\u001b[0m\u001b[0;34m(\u001b[0m\u001b[0mPesan_Encode_New\u001b[0m\u001b[0;34m,\u001b[0m \u001b[0mequal_nan\u001b[0m\u001b[0;34m=\u001b[0m\u001b[0;32mTrue\u001b[0m\u001b[0;34m)\u001b[0m\u001b[0;34m\u001b[0m\u001b[0;34m\u001b[0m\u001b[0m\n\u001b[0m",
            "\u001b[0;32m<__array_function__ internals>\u001b[0m in \u001b[0;36mallclose\u001b[0;34m(*args, **kwargs)\u001b[0m\n",
            "\u001b[0;31mTypeError\u001b[0m: _allclose_dispatcher() missing 1 required positional argument: 'b'"
          ]
        }
      ],
      "source": [
        "Decode = np.allclose(Pesan_Encode_New, equal_nan=True)"
      ]
    },
    {
      "cell_type": "markdown",
      "metadata": {},
      "source": [
        "# "
      ]
    },
    {
      "cell_type": "markdown",
      "metadata": {
        "id": "dLJzjPkiKgSu"
      },
      "source": [
        "### Jawaban dari Pertanyaan\n",
        "\n",
        "A. \n",
        "\n",
        "B. Mengkonfersi Huruf menjadi Angka\n",
        "    array([ 1,  2,  3,  4,  5,  6,  7,  8,  9, 10, 11, 12, 13, 14, 15, 16, 17,\n",
        "       18, 19, 20, 21, 22, 23, 24, 25, 26,  0])\n",
        "\n",
        "C. Mengubah 1D menjadi 2D\n",
        "    array([[19.,  9.,  1., 16.],\n",
        "       [ 2.,  5., 18., 19.],\n",
        "       [ 5.,  4.,  9.,  1.]])\n",
        "\n",
        "D. Membuat kode transmisi\n",
        "    array([[19.,  9.,  1., 16.],\n",
        "       [ 2.,  5., 18., 19.],\n",
        "       [ 5.,  4.,  9.,  1.]])\n",
        "\n",
        "E. "
      ]
    },
    {
      "cell_type": "markdown",
      "metadata": {
        "id": "FzKsEVTKKmYh"
      },
      "source": [
        "## Nomor 2\n",
        "\n",
        "Salah satu Matrik yang dapat dijadikan referensi untuk mengevaluasi kecocokan antara dan data adalah ROC (Receiver Operating Charateristics) curve.\n"
      ]
    },
    {
      "cell_type": "code",
      "execution_count": 79,
      "metadata": {},
      "outputs": [],
      "source": [
        "import pandas as pd\n",
        "import sympy as sy\n",
        "import matplotlib.pyplot as plt"
      ]
    },
    {
      "cell_type": "code",
      "execution_count": 74,
      "metadata": {},
      "outputs": [],
      "source": [
        "df = pd.read_csv('https://raw.githubusercontent.com/fahmimnalfrzki/Dataset/main/ROC%20Curve%20SVR%20-%20Random%20Forest.csv?token=AEZDEHVS66CKQBUSHKZ534TA44EVO')"
      ]
    },
    {
      "cell_type": "code",
      "execution_count": 75,
      "metadata": {},
      "outputs": [
        {
          "name": "stdout",
          "output_type": "stream",
          "text": [
            "    Unnamed: 0   svr_fpr   svr_tpr   rfr_fpr   rfr_tpr\n",
            "0            0  0.000000  0.000000  0.000000  0.000000\n",
            "1            1  0.000000  0.015152  0.000000  0.030303\n",
            "2            2  0.004831  0.030303  0.000000  0.060606\n",
            "3            3  0.009662  0.030303  0.000000  0.106061\n",
            "4            4  0.012077  0.045455  0.002415  0.121212\n",
            "..         ...       ...       ...       ...       ...\n",
            "61          61  0.973430  0.969697  0.449275  0.984848\n",
            "62          62  0.973430  0.969697  0.507246  0.984848\n",
            "63          63  0.992754  1.000000  0.582126  0.984848\n",
            "64          64  0.997585  1.000000  0.722222  1.000000\n",
            "65          65  0.997585  1.000000  1.000000  1.000000\n",
            "\n",
            "[66 rows x 5 columns]\n"
          ]
        }
      ],
      "source": [
        "print(df)"
      ]
    },
    {
      "cell_type": "markdown",
      "metadata": {},
      "source": [
        "### 1. Jenis Integral Numerik"
      ]
    },
    {
      "cell_type": "code",
      "execution_count": 80,
      "metadata": {},
      "outputs": [
        {
          "data": {
            "text/latex": [
              "$\\displaystyle x$"
            ],
            "text/plain": [
              "x"
            ]
          },
          "execution_count": 80,
          "metadata": {},
          "output_type": "execute_result"
        }
      ],
      "source": [
        "x = sy.Symbol('x')\n",
        "x"
      ]
    },
    {
      "cell_type": "code",
      "execution_count": 84,
      "metadata": {},
      "outputs": [
        {
          "data": {
            "text/plain": [
              "array([[0.00000000e+00, 0.00000000e+00, 0.00000000e+00, 0.00000000e+00,\n",
              "        0.00000000e+00],\n",
              "       [1.00000000e+00, 0.00000000e+00, 1.51515152e-02, 0.00000000e+00,\n",
              "        3.03030303e-02],\n",
              "       [2.00000000e+00, 4.83091787e-03, 3.03030303e-02, 0.00000000e+00,\n",
              "        6.06060606e-02],\n",
              "       [3.00000000e+00, 9.66183575e-03, 3.03030303e-02, 0.00000000e+00,\n",
              "        1.06060606e-01],\n",
              "       [4.00000000e+00, 1.20772947e-02, 4.54545455e-02, 2.41545894e-03,\n",
              "        1.21212121e-01],\n",
              "       [5.00000000e+00, 1.20772947e-02, 4.54545455e-02, 2.41545894e-03,\n",
              "        1.51515152e-01],\n",
              "       [6.00000000e+00, 1.44927536e-02, 1.36363636e-01, 2.41545894e-03,\n",
              "        1.81818182e-01],\n",
              "       [7.00000000e+00, 1.69082126e-02, 1.36363636e-01, 4.83091787e-03,\n",
              "        1.96969697e-01],\n",
              "       [8.00000000e+00, 1.69082126e-02, 1.36363636e-01, 9.66183575e-03,\n",
              "        2.27272727e-01],\n",
              "       [9.00000000e+00, 2.41545894e-02, 2.42424242e-01, 1.44927536e-02,\n",
              "        2.27272727e-01],\n",
              "       [1.00000000e+01, 2.41545894e-02, 3.18181818e-01, 1.69082126e-02,\n",
              "        2.42424242e-01],\n",
              "       [1.10000000e+01, 2.41545894e-02, 3.63636364e-01, 1.69082126e-02,\n",
              "        3.03030303e-01],\n",
              "       [1.20000000e+01, 2.65700483e-02, 4.09090909e-01, 2.17391304e-02,\n",
              "        3.03030303e-01],\n",
              "       [1.30000000e+01, 3.14009662e-02, 4.24242424e-01, 2.17391304e-02,\n",
              "        3.18181818e-01],\n",
              "       [1.40000000e+01, 4.34782609e-02, 4.69696970e-01, 2.17391304e-02,\n",
              "        3.78787879e-01],\n",
              "       [1.50000000e+01, 4.34782609e-02, 5.60606061e-01, 2.89855072e-02,\n",
              "        4.09090909e-01],\n",
              "       [1.60000000e+01, 4.58937198e-02, 5.60606061e-01, 2.89855072e-02,\n",
              "        4.24242424e-01],\n",
              "       [1.70000000e+01, 5.31400966e-02, 5.60606061e-01, 3.38164251e-02,\n",
              "        4.39393939e-01],\n",
              "       [1.80000000e+01, 5.31400966e-02, 5.75757576e-01, 3.62318841e-02,\n",
              "        4.54545455e-01],\n",
              "       [1.90000000e+01, 6.28019324e-02, 6.06060606e-01, 3.62318841e-02,\n",
              "        4.69696970e-01],\n",
              "       [2.00000000e+01, 6.28019324e-02, 6.36363636e-01, 4.10628019e-02,\n",
              "        4.84848485e-01],\n",
              "       [2.10000000e+01, 6.28019324e-02, 6.51515152e-01, 4.10628019e-02,\n",
              "        5.15151515e-01],\n",
              "       [2.20000000e+01, 6.76328502e-02, 6.51515152e-01, 4.83091787e-02,\n",
              "        5.15151515e-01],\n",
              "       [2.30000000e+01, 6.76328502e-02, 6.66666667e-01, 5.31400966e-02,\n",
              "        5.15151515e-01],\n",
              "       [2.40000000e+01, 7.00483092e-02, 6.81818182e-01, 5.55555556e-02,\n",
              "        5.30303030e-01],\n",
              "       [2.50000000e+01, 8.45410628e-02, 7.57575758e-01, 6.28019324e-02,\n",
              "        5.30303030e-01],\n",
              "       [2.60000000e+01, 8.93719807e-02, 7.87878788e-01, 6.28019324e-02,\n",
              "        5.60606061e-01],\n",
              "       [2.70000000e+01, 8.93719807e-02, 7.87878788e-01, 6.76328502e-02,\n",
              "        5.75757576e-01],\n",
              "       [2.80000000e+01, 8.93719807e-02, 8.03030303e-01, 6.76328502e-02,\n",
              "        5.90909091e-01],\n",
              "       [2.90000000e+01, 1.03864734e-01, 8.18181818e-01, 7.24637681e-02,\n",
              "        5.90909091e-01],\n",
              "       [3.00000000e+01, 1.08695652e-01, 8.33333333e-01, 7.48792271e-02,\n",
              "        6.21212121e-01],\n",
              "       [3.10000000e+01, 1.08695652e-01, 8.48484848e-01, 7.48792271e-02,\n",
              "        6.36363636e-01],\n",
              "       [3.20000000e+01, 1.08695652e-01, 8.48484848e-01, 7.72946860e-02,\n",
              "        6.51515152e-01],\n",
              "       [3.30000000e+01, 1.15942029e-01, 8.48484848e-01, 7.97101449e-02,\n",
              "        6.51515152e-01],\n",
              "       [3.40000000e+01, 1.32850242e-01, 8.48484848e-01, 7.97101449e-02,\n",
              "        6.66666667e-01],\n",
              "       [3.50000000e+01, 1.61835749e-01, 8.48484848e-01, 8.21256039e-02,\n",
              "        6.66666667e-01],\n",
              "       [3.60000000e+01, 1.61835749e-01, 8.48484848e-01, 8.45410628e-02,\n",
              "        6.81818182e-01],\n",
              "       [3.70000000e+01, 1.61835749e-01, 8.48484848e-01, 9.17874396e-02,\n",
              "        6.81818182e-01],\n",
              "       [3.80000000e+01, 1.88405797e-01, 8.63636364e-01, 9.42028986e-02,\n",
              "        7.12121212e-01],\n",
              "       [3.90000000e+01, 2.41545894e-01, 8.63636364e-01, 9.42028986e-02,\n",
              "        7.27272727e-01],\n",
              "       [4.00000000e+01, 2.46376812e-01, 8.63636364e-01, 1.08695652e-01,\n",
              "        7.72727273e-01],\n",
              "       [4.10000000e+01, 2.72946860e-01, 8.63636364e-01, 1.13526570e-01,\n",
              "        7.87878788e-01],\n",
              "       [4.20000000e+01, 2.72946860e-01, 8.78787879e-01, 1.20772947e-01,\n",
              "        7.87878788e-01],\n",
              "       [4.30000000e+01, 2.72946860e-01, 8.78787879e-01, 1.25603865e-01,\n",
              "        7.87878788e-01],\n",
              "       [4.40000000e+01, 3.59903382e-01, 8.93939394e-01, 1.40096618e-01,\n",
              "        7.87878788e-01],\n",
              "       [4.50000000e+01, 3.59903382e-01, 8.93939394e-01, 1.44927536e-01,\n",
              "        8.33333333e-01],\n",
              "       [4.60000000e+01, 3.93719807e-01, 9.09090909e-01, 1.52173913e-01,\n",
              "        8.63636364e-01],\n",
              "       [4.70000000e+01, 3.93719807e-01, 9.09090909e-01, 1.57004831e-01,\n",
              "        8.78787879e-01],\n",
              "       [4.80000000e+01, 3.93719807e-01, 9.09090909e-01, 1.66666667e-01,\n",
              "        8.78787879e-01],\n",
              "       [4.90000000e+01, 4.56521739e-01, 9.09090909e-01, 1.83574879e-01,\n",
              "        8.78787879e-01],\n",
              "       [5.00000000e+01, 5.26570048e-01, 9.39393939e-01, 1.85990338e-01,\n",
              "        8.78787879e-01],\n",
              "       [5.10000000e+01, 5.43478261e-01, 9.39393939e-01, 1.93236715e-01,\n",
              "        8.78787879e-01],\n",
              "       [5.20000000e+01, 5.55555556e-01, 9.39393939e-01, 2.07729469e-01,\n",
              "        8.78787879e-01],\n",
              "       [5.30000000e+01, 5.82125604e-01, 9.39393939e-01, 2.24637681e-01,\n",
              "        8.93939394e-01],\n",
              "       [5.40000000e+01, 5.86956522e-01, 9.39393939e-01, 2.39130435e-01,\n",
              "        8.93939394e-01],\n",
              "       [5.50000000e+01, 5.86956522e-01, 9.39393939e-01, 2.60869565e-01,\n",
              "        9.09090909e-01],\n",
              "       [5.60000000e+01, 5.86956522e-01, 9.54545455e-01, 2.89855072e-01,\n",
              "        9.54545455e-01],\n",
              "       [5.70000000e+01, 6.15942029e-01, 9.69696970e-01, 3.11594203e-01,\n",
              "        9.69696970e-01],\n",
              "       [5.80000000e+01, 7.29468599e-01, 9.69696970e-01, 3.47826087e-01,\n",
              "        9.69696970e-01],\n",
              "       [5.90000000e+01, 7.82608696e-01, 9.69696970e-01, 3.64734300e-01,\n",
              "        9.69696970e-01],\n",
              "       [6.00000000e+01, 9.73429952e-01, 9.69696970e-01, 3.98550725e-01,\n",
              "        9.69696970e-01],\n",
              "       [6.10000000e+01, 9.73429952e-01, 9.69696970e-01, 4.49275362e-01,\n",
              "        9.84848485e-01],\n",
              "       [6.20000000e+01, 9.73429952e-01, 9.69696970e-01, 5.07246377e-01,\n",
              "        9.84848485e-01],\n",
              "       [6.30000000e+01, 9.92753623e-01, 1.00000000e+00, 5.82125604e-01,\n",
              "        9.84848485e-01],\n",
              "       [6.40000000e+01, 9.97584541e-01, 1.00000000e+00, 7.22222222e-01,\n",
              "        1.00000000e+00],\n",
              "       [6.50000000e+01, 9.97584541e-01, 1.00000000e+00, 1.00000000e+00,\n",
              "        1.00000000e+00]])"
            ]
          },
          "execution_count": 84,
          "metadata": {},
          "output_type": "execute_result"
        }
      ],
      "source": [
        "df = np.array(df)\n",
        "\n",
        "df"
      ]
    },
    {
      "cell_type": "code",
      "execution_count": 85,
      "metadata": {},
      "outputs": [
        {
          "data": {
            "text/plain": [
              "(66, 5)"
            ]
          },
          "execution_count": 85,
          "metadata": {},
          "output_type": "execute_result"
        }
      ],
      "source": [
        "df.shape"
      ]
    },
    {
      "cell_type": "code",
      "execution_count": 95,
      "metadata": {},
      "outputs": [],
      "source": [
        "Y = np.linspace(-100,100)\n",
        "Y = 2*X**2+4*X-1"
      ]
    },
    {
      "cell_type": "code",
      "execution_count": 96,
      "metadata": {},
      "outputs": [
        {
          "data": {
            "text/plain": [
              "(50,)"
            ]
          },
          "execution_count": 96,
          "metadata": {},
          "output_type": "execute_result"
        }
      ],
      "source": [
        "Y.shape"
      ]
    },
    {
      "cell_type": "code",
      "execution_count": 97,
      "metadata": {},
      "outputs": [
        {
          "data": {
            "text/plain": [
              "[<matplotlib.lines.Line2D at 0x7fea3c8ceaf0>]"
            ]
          },
          "execution_count": 97,
          "metadata": {},
          "output_type": "execute_result"
        },
        {
          "data": {
            "image/png": "[encoded data removed]",
            "text/plain": [
              "<Figure size 432x288 with 1 Axes>"
            ]
          },
          "metadata": {
            "needs_background": "light"
          },
          "output_type": "display_data"
        }
      ],
      "source": [
        "plt.plot(X,Y)"
      ]
    },
    {
      "cell_type": "code",
      "execution_count": 98,
      "metadata": {},
      "outputs": [],
      "source": [
        "# First Order\n",
        "df1 = np.diff(Y)/np.diff(X)\n",
        "df2 = np.gradient(Y,X)"
      ]
    },
    {
      "cell_type": "code",
      "execution_count": 104,
      "metadata": {},
      "outputs": [
        {
          "data": {
            "text/plain": [
              "(49,)"
            ]
          },
          "execution_count": 104,
          "metadata": {},
          "output_type": "execute_result"
        }
      ],
      "source": [
        "df1.shape"
      ]
    },
    {
      "cell_type": "code",
      "execution_count": 105,
      "metadata": {},
      "outputs": [
        {
          "data": {
            "text/plain": [
              "(50,)"
            ]
          },
          "execution_count": 105,
          "metadata": {},
          "output_type": "execute_result"
        }
      ],
      "source": [
        "df2.shape"
      ]
    },
    {
      "cell_type": "code",
      "execution_count": 106,
      "metadata": {},
      "outputs": [
        {
          "data": {
            "text/plain": [
              "array([-387.83673469, -371.51020408, -355.18367347, -338.85714286,\n",
              "       -322.53061224, -306.20408163, -289.87755102, -273.55102041,\n",
              "       -257.2244898 , -240.89795918, -224.57142857, -208.24489796,\n",
              "       -191.91836735, -175.59183673, -159.26530612, -142.93877551,\n",
              "       -126.6122449 , -110.28571429,  -93.95918367,  -77.63265306,\n",
              "        -61.30612245,  -44.97959184,  -28.65306122,  -12.32653061,\n",
              "          4.        ,   20.32653061,   36.65306122,   52.97959184,\n",
              "         69.30612245,   85.63265306,  101.95918367,  118.28571429,\n",
              "        134.6122449 ,  150.93877551,  167.26530612,  183.59183673,\n",
              "        199.91836735,  216.24489796,  232.57142857,  248.89795918,\n",
              "        265.2244898 ,  281.55102041,  297.87755102,  314.20408163,\n",
              "        330.53061224,  346.85714286,  363.18367347,  379.51020408,\n",
              "        395.83673469])"
            ]
          },
          "execution_count": 106,
          "metadata": {},
          "output_type": "execute_result"
        }
      ],
      "source": [
        "df1"
      ]
    },
    {
      "cell_type": "code",
      "execution_count": 107,
      "metadata": {},
      "outputs": [
        {
          "data": {
            "text/plain": [
              "(49,)"
            ]
          },
          "execution_count": 107,
          "metadata": {},
          "output_type": "execute_result"
        }
      ],
      "source": [
        "df1.shape"
      ]
    },
    {
      "cell_type": "code",
      "execution_count": 108,
      "metadata": {},
      "outputs": [
        {
          "data": {
            "text/plain": [
              "(50,)"
            ]
          },
          "execution_count": 108,
          "metadata": {},
          "output_type": "execute_result"
        }
      ],
      "source": [
        "X.shape"
      ]
    },
    {
      "cell_type": "code",
      "execution_count": 109,
      "metadata": {},
      "outputs": [
        {
          "data": {
            "text/plain": [
              "array([-387.83673469, -379.67346939, -363.34693878, -347.02040816,\n",
              "       -330.69387755, -314.36734694, -298.04081633, -281.71428571,\n",
              "       -265.3877551 , -249.06122449, -232.73469388, -216.40816327,\n",
              "       -200.08163265, -183.75510204, -167.42857143, -151.10204082,\n",
              "       -134.7755102 , -118.44897959, -102.12244898,  -85.79591837,\n",
              "        -69.46938776,  -53.14285714,  -36.81632653,  -20.48979592,\n",
              "         -4.16326531,   12.16326531,   28.48979592,   44.81632653,\n",
              "         61.14285714,   77.46938776,   93.79591837,  110.12244898,\n",
              "        126.44897959,  142.7755102 ,  159.10204082,  175.42857143,\n",
              "        191.75510204,  208.08163265,  224.40816327,  240.73469388,\n",
              "        257.06122449,  273.3877551 ,  289.71428571,  306.04081633,\n",
              "        322.36734694,  338.69387755,  355.02040816,  371.34693878,\n",
              "        387.67346939,  395.83673469])"
            ]
          },
          "execution_count": 109,
          "metadata": {},
          "output_type": "execute_result"
        }
      ],
      "source": [
        "df2"
      ]
    },
    {
      "cell_type": "code",
      "execution_count": 111,
      "metadata": {},
      "outputs": [
        {
          "data": {
            "text/plain": [
              "[<matplotlib.lines.Line2D at 0x7fea3ca0f250>]"
            ]
          },
          "execution_count": 111,
          "metadata": {},
          "output_type": "execute_result"
        },
        {
          "data": {
            "image/png": "[encoded data removed]",
            "text/plain": [
              "<Figure size 432x288 with 1 Axes>"
            ]
          },
          "metadata": {
            "needs_background": "light"
          },
          "output_type": "display_data"
        }
      ],
      "source": [
        "plt.plot(X[1:],df1)"
      ]
    },
    {
      "cell_type": "code",
      "execution_count": 112,
      "metadata": {},
      "outputs": [
        {
          "data": {
            "text/plain": [
              "array([-100.        ,  -95.91836735,  -91.83673469,  -87.75510204,\n",
              "        -83.67346939,  -79.59183673,  -75.51020408,  -71.42857143,\n",
              "        -67.34693878,  -63.26530612,  -59.18367347,  -55.10204082,\n",
              "        -51.02040816,  -46.93877551,  -42.85714286,  -38.7755102 ,\n",
              "        -34.69387755,  -30.6122449 ,  -26.53061224,  -22.44897959,\n",
              "        -18.36734694,  -14.28571429,  -10.20408163,   -6.12244898,\n",
              "         -2.04081633,    2.04081633,    6.12244898,   10.20408163,\n",
              "         14.28571429,   18.36734694,   22.44897959,   26.53061224,\n",
              "         30.6122449 ,   34.69387755,   38.7755102 ,   42.85714286,\n",
              "         46.93877551,   51.02040816,   55.10204082,   59.18367347,\n",
              "         63.26530612,   67.34693878,   71.42857143,   75.51020408,\n",
              "         79.59183673,   83.67346939,   87.75510204,   91.83673469,\n",
              "         95.91836735,  100.        ])"
            ]
          },
          "execution_count": 112,
          "metadata": {},
          "output_type": "execute_result"
        }
      ],
      "source": [
        "X"
      ]
    },
    {
      "cell_type": "code",
      "execution_count": 113,
      "metadata": {},
      "outputs": [
        {
          "data": {
            "text/plain": [
              "array([-95.91836735, -91.83673469, -87.75510204, -83.67346939,\n",
              "       -79.59183673, -75.51020408, -71.42857143, -67.34693878,\n",
              "       -63.26530612, -59.18367347, -55.10204082, -51.02040816,\n",
              "       -46.93877551, -42.85714286, -38.7755102 , -34.69387755,\n",
              "       -30.6122449 , -26.53061224, -22.44897959, -18.36734694,\n",
              "       -14.28571429, -10.20408163,  -6.12244898,  -2.04081633,\n",
              "         2.04081633,   6.12244898,  10.20408163,  14.28571429,\n",
              "        18.36734694,  22.44897959,  26.53061224,  30.6122449 ,\n",
              "        34.69387755,  38.7755102 ,  42.85714286,  46.93877551,\n",
              "        51.02040816,  55.10204082,  59.18367347,  63.26530612,\n",
              "        67.34693878,  71.42857143,  75.51020408,  79.59183673,\n",
              "        83.67346939,  87.75510204,  91.83673469,  95.91836735,\n",
              "       100.        ])"
            ]
          },
          "execution_count": 113,
          "metadata": {},
          "output_type": "execute_result"
        }
      ],
      "source": [
        "X[1:]"
      ]
    },
    {
      "cell_type": "code",
      "execution_count": 114,
      "metadata": {},
      "outputs": [
        {
          "data": {
            "text/plain": [
              "(50,)"
            ]
          },
          "execution_count": 114,
          "metadata": {},
          "output_type": "execute_result"
        }
      ],
      "source": [
        "df2.shape"
      ]
    },
    {
      "cell_type": "code",
      "execution_count": 115,
      "metadata": {},
      "outputs": [
        {
          "data": {
            "text/plain": [
              "[<matplotlib.lines.Line2D at 0x7fea3c655a90>]"
            ]
          },
          "execution_count": 115,
          "metadata": {},
          "output_type": "execute_result"
        },
        {
          "data": {
            "image/png": "[encoded data removed]",
            "text/plain": [
              "<Figure size 432x288 with 1 Axes>"
            ]
          },
          "metadata": {
            "needs_background": "light"
          },
          "output_type": "display_data"
        }
      ],
      "source": [
        "plt.plot(X,df2)"
      ]
    },
    {
      "cell_type": "code",
      "execution_count": null,
      "metadata": {},
      "outputs": [],
      "source": []
    },
    {
      "cell_type": "markdown",
      "metadata": {
        "id": "4HynMuTtK9GL"
      },
      "source": [
        "### Jawaban dari Pertanyaan\n",
        "\n",
        "1.\n",
        "\n",
        "2."
      ]
    },
    {
      "cell_type": "code",
      "execution_count": null,
      "metadata": {
        "id": "YpL92YMiKrET"
      },
      "outputs": [],
      "source": [
        "#Code Area - Kamu bisa tambahkan cell tambahan bila diperlukan"
      ]
    },
    {
      "cell_type": "markdown",
      "metadata": {
        "id": "eaAeb3MCLRqF"
      },
      "source": [
        "### Jawaban dari Pertanyaan\n",
        "\n",
        "3."
      ]
    }
  ],
  "metadata": {
    "colab": {
      "name": "Assignment Templates.ipynb",
      "provenance": []
    },
    "kernelspec": {
      "display_name": "Python 3",
      "name": "python3"
    },
    "language_info": {
      "codemirror_mode": {
        "name": "ipython",
        "version": 3
      },
      "file_extension": ".py",
      "mimetype": "text/x-python",
      "name": "python",
      "nbconvert_exporter": "python",
      "pygments_lexer": "ipython3",
      "version": "3.9.7"
    }
  },
  "nbformat": 4,
  "nbformat_minor": 0
}
